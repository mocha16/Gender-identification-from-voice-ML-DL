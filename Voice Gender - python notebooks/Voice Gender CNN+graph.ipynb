{
 "cells": [
  {
   "cell_type": "code",
   "execution_count": 1,
   "metadata": {},
   "outputs": [],
   "source": [
    "import numpy as np\n",
    "import pandas as pd\n",
    "import matplotlib.pyplot as plt\n",
    "\n",
    "from sklearn.preprocessing import LabelEncoder, StandardScaler\n",
    "from sklearn.model_selection import train_test_split\n",
    "\n",
    "import tensorflow as tf"
   ]
  },
  {
   "cell_type": "code",
   "execution_count": 2,
   "metadata": {},
   "outputs": [],
   "source": [
    "from sklearn import preprocessing\n",
    "from sklearn.model_selection import train_test_split\n",
    "from sklearn.metrics import accuracy_score\n",
    "from sklearn.metrics import precision_recall_fscore_support"
   ]
  },
  {
   "cell_type": "code",
   "execution_count": 3,
   "metadata": {},
   "outputs": [
    {
     "data": {
      "text/html": [
       "<div>\n",
       "<style scoped>\n",
       "    .dataframe tbody tr th:only-of-type {\n",
       "        vertical-align: middle;\n",
       "    }\n",
       "\n",
       "    .dataframe tbody tr th {\n",
       "        vertical-align: top;\n",
       "    }\n",
       "\n",
       "    .dataframe thead th {\n",
       "        text-align: right;\n",
       "    }\n",
       "</style>\n",
       "<table border=\"1\" class=\"dataframe\">\n",
       "  <thead>\n",
       "    <tr style=\"text-align: right;\">\n",
       "      <th></th>\n",
       "      <th>meanfreq</th>\n",
       "      <th>sd</th>\n",
       "      <th>median</th>\n",
       "      <th>Q25</th>\n",
       "      <th>Q75</th>\n",
       "      <th>IQR</th>\n",
       "      <th>skew</th>\n",
       "      <th>kurt</th>\n",
       "      <th>sp.ent</th>\n",
       "      <th>sfm</th>\n",
       "      <th>...</th>\n",
       "      <th>centroid</th>\n",
       "      <th>meanfun</th>\n",
       "      <th>minfun</th>\n",
       "      <th>maxfun</th>\n",
       "      <th>meandom</th>\n",
       "      <th>mindom</th>\n",
       "      <th>maxdom</th>\n",
       "      <th>dfrange</th>\n",
       "      <th>modindx</th>\n",
       "      <th>label</th>\n",
       "    </tr>\n",
       "  </thead>\n",
       "  <tbody>\n",
       "    <tr>\n",
       "      <th>0</th>\n",
       "      <td>0.059781</td>\n",
       "      <td>0.064241</td>\n",
       "      <td>0.032027</td>\n",
       "      <td>0.015071</td>\n",
       "      <td>0.090193</td>\n",
       "      <td>0.075122</td>\n",
       "      <td>12.863462</td>\n",
       "      <td>274.402906</td>\n",
       "      <td>0.893369</td>\n",
       "      <td>0.491918</td>\n",
       "      <td>...</td>\n",
       "      <td>0.059781</td>\n",
       "      <td>0.084279</td>\n",
       "      <td>0.015702</td>\n",
       "      <td>0.275862</td>\n",
       "      <td>0.007812</td>\n",
       "      <td>0.007812</td>\n",
       "      <td>0.007812</td>\n",
       "      <td>0.000000</td>\n",
       "      <td>0.000000</td>\n",
       "      <td>male</td>\n",
       "    </tr>\n",
       "    <tr>\n",
       "      <th>1</th>\n",
       "      <td>0.066009</td>\n",
       "      <td>0.067310</td>\n",
       "      <td>0.040229</td>\n",
       "      <td>0.019414</td>\n",
       "      <td>0.092666</td>\n",
       "      <td>0.073252</td>\n",
       "      <td>22.423285</td>\n",
       "      <td>634.613855</td>\n",
       "      <td>0.892193</td>\n",
       "      <td>0.513724</td>\n",
       "      <td>...</td>\n",
       "      <td>0.066009</td>\n",
       "      <td>0.107937</td>\n",
       "      <td>0.015826</td>\n",
       "      <td>0.250000</td>\n",
       "      <td>0.009014</td>\n",
       "      <td>0.007812</td>\n",
       "      <td>0.054688</td>\n",
       "      <td>0.046875</td>\n",
       "      <td>0.052632</td>\n",
       "      <td>male</td>\n",
       "    </tr>\n",
       "    <tr>\n",
       "      <th>2</th>\n",
       "      <td>0.077316</td>\n",
       "      <td>0.083829</td>\n",
       "      <td>0.036718</td>\n",
       "      <td>0.008701</td>\n",
       "      <td>0.131908</td>\n",
       "      <td>0.123207</td>\n",
       "      <td>30.757155</td>\n",
       "      <td>1024.927705</td>\n",
       "      <td>0.846389</td>\n",
       "      <td>0.478905</td>\n",
       "      <td>...</td>\n",
       "      <td>0.077316</td>\n",
       "      <td>0.098706</td>\n",
       "      <td>0.015656</td>\n",
       "      <td>0.271186</td>\n",
       "      <td>0.007990</td>\n",
       "      <td>0.007812</td>\n",
       "      <td>0.015625</td>\n",
       "      <td>0.007812</td>\n",
       "      <td>0.046512</td>\n",
       "      <td>male</td>\n",
       "    </tr>\n",
       "    <tr>\n",
       "      <th>3</th>\n",
       "      <td>0.151228</td>\n",
       "      <td>0.072111</td>\n",
       "      <td>0.158011</td>\n",
       "      <td>0.096582</td>\n",
       "      <td>0.207955</td>\n",
       "      <td>0.111374</td>\n",
       "      <td>1.232831</td>\n",
       "      <td>4.177296</td>\n",
       "      <td>0.963322</td>\n",
       "      <td>0.727232</td>\n",
       "      <td>...</td>\n",
       "      <td>0.151228</td>\n",
       "      <td>0.088965</td>\n",
       "      <td>0.017798</td>\n",
       "      <td>0.250000</td>\n",
       "      <td>0.201497</td>\n",
       "      <td>0.007812</td>\n",
       "      <td>0.562500</td>\n",
       "      <td>0.554688</td>\n",
       "      <td>0.247119</td>\n",
       "      <td>male</td>\n",
       "    </tr>\n",
       "    <tr>\n",
       "      <th>4</th>\n",
       "      <td>0.135120</td>\n",
       "      <td>0.079146</td>\n",
       "      <td>0.124656</td>\n",
       "      <td>0.078720</td>\n",
       "      <td>0.206045</td>\n",
       "      <td>0.127325</td>\n",
       "      <td>1.101174</td>\n",
       "      <td>4.333713</td>\n",
       "      <td>0.971955</td>\n",
       "      <td>0.783568</td>\n",
       "      <td>...</td>\n",
       "      <td>0.135120</td>\n",
       "      <td>0.106398</td>\n",
       "      <td>0.016931</td>\n",
       "      <td>0.266667</td>\n",
       "      <td>0.712812</td>\n",
       "      <td>0.007812</td>\n",
       "      <td>5.484375</td>\n",
       "      <td>5.476562</td>\n",
       "      <td>0.208274</td>\n",
       "      <td>male</td>\n",
       "    </tr>\n",
       "  </tbody>\n",
       "</table>\n",
       "<p>5 rows × 21 columns</p>\n",
       "</div>"
      ],
      "text/plain": [
       "   meanfreq        sd    median       Q25       Q75       IQR       skew  \\\n",
       "0  0.059781  0.064241  0.032027  0.015071  0.090193  0.075122  12.863462   \n",
       "1  0.066009  0.067310  0.040229  0.019414  0.092666  0.073252  22.423285   \n",
       "2  0.077316  0.083829  0.036718  0.008701  0.131908  0.123207  30.757155   \n",
       "3  0.151228  0.072111  0.158011  0.096582  0.207955  0.111374   1.232831   \n",
       "4  0.135120  0.079146  0.124656  0.078720  0.206045  0.127325   1.101174   \n",
       "\n",
       "          kurt    sp.ent       sfm  ...  centroid   meanfun    minfun  \\\n",
       "0   274.402906  0.893369  0.491918  ...  0.059781  0.084279  0.015702   \n",
       "1   634.613855  0.892193  0.513724  ...  0.066009  0.107937  0.015826   \n",
       "2  1024.927705  0.846389  0.478905  ...  0.077316  0.098706  0.015656   \n",
       "3     4.177296  0.963322  0.727232  ...  0.151228  0.088965  0.017798   \n",
       "4     4.333713  0.971955  0.783568  ...  0.135120  0.106398  0.016931   \n",
       "\n",
       "     maxfun   meandom    mindom    maxdom   dfrange   modindx  label  \n",
       "0  0.275862  0.007812  0.007812  0.007812  0.000000  0.000000   male  \n",
       "1  0.250000  0.009014  0.007812  0.054688  0.046875  0.052632   male  \n",
       "2  0.271186  0.007990  0.007812  0.015625  0.007812  0.046512   male  \n",
       "3  0.250000  0.201497  0.007812  0.562500  0.554688  0.247119   male  \n",
       "4  0.266667  0.712812  0.007812  5.484375  5.476562  0.208274   male  \n",
       "\n",
       "[5 rows x 21 columns]"
      ]
     },
     "execution_count": 3,
     "metadata": {},
     "output_type": "execute_result"
    }
   ],
   "source": [
    "data = pd.read_csv(\"D:\\\\Prathyu College\\\\YR 3 (SEM 6)\\\\Deep Learning\\\\DL PROJECT\\\\voice.csv\")\n",
    "data.head()\n"
   ]
  },
  {
   "cell_type": "code",
   "execution_count": 4,
   "metadata": {},
   "outputs": [
    {
     "name": "stdout",
     "output_type": "stream",
     "text": [
      "Total number of labels: 3168\n",
      "Number of male: 1584\n",
      "Number of female: 1584\n"
     ]
    }
   ],
   "source": [
    "print(\"Total number of labels: {}\".format(data.shape[0]))\n",
    "print(\"Number of male: {}\".format(data[data.label == 'male'].shape[0]))\n",
    "print(\"Number of female: {}\".format(data[data.label == 'female'].shape[0]))"
   ]
  },
  {
   "cell_type": "code",
   "execution_count": 5,
   "metadata": {},
   "outputs": [
    {
     "data": {
      "text/plain": [
       "array(['female', 'male'], dtype=object)"
      ]
     },
     "execution_count": 5,
     "metadata": {},
     "output_type": "execute_result"
    }
   ],
   "source": [
    "from sklearn import preprocessing\n",
    "le = preprocessing.LabelEncoder()\n",
    "data[\"label\"] = le.fit_transform(data[\"label\"])\n",
    "le.classes_"
   ]
  },
  {
   "cell_type": "code",
   "execution_count": 6,
   "metadata": {},
   "outputs": [
    {
     "name": "stderr",
     "output_type": "stream",
     "text": [
      "C:\\Users\\prathyu\\anaconda3\\envs\\tensorflow_env\\lib\\site-packages\\ipykernel_launcher.py:1: SettingWithCopyWarning: \n",
      "A value is trying to be set on a copy of a slice from a DataFrame\n",
      "\n",
      "See the caveats in the documentation: https://pandas.pydata.org/pandas-docs/stable/user_guide/indexing.html#returning-a-view-versus-a-copy\n",
      "  \"\"\"Entry point for launching an IPython kernel.\n",
      "C:\\Users\\prathyu\\anaconda3\\envs\\tensorflow_env\\lib\\site-packages\\ipykernel_launcher.py:2: SettingWithCopyWarning: \n",
      "A value is trying to be set on a copy of a slice from a DataFrame\n",
      "\n",
      "See the caveats in the documentation: https://pandas.pydata.org/pandas-docs/stable/user_guide/indexing.html#returning-a-view-versus-a-copy\n",
      "  \n"
     ]
    }
   ],
   "source": [
    "data.loc[:,'label'][data['label']==\"female\"] = 0\n",
    "data.loc[:,'label'][data['label']==\"male\"] = 1"
   ]
  },
  {
   "cell_type": "code",
   "execution_count": 7,
   "metadata": {},
   "outputs": [],
   "source": [
    "label_encoder = LabelEncoder()\n",
    "\n",
    "data['label'] = label_encoder.fit_transform(data['label'])"
   ]
  },
  {
   "cell_type": "code",
   "execution_count": 8,
   "metadata": {},
   "outputs": [
    {
     "data": {
      "text/plain": [
       "{0: 0, 1: 1}"
      ]
     },
     "execution_count": 8,
     "metadata": {},
     "output_type": "execute_result"
    }
   ],
   "source": [
    "dict(enumerate(label_encoder.classes_))"
   ]
  },
  {
   "cell_type": "code",
   "execution_count": 9,
   "metadata": {},
   "outputs": [],
   "source": [
    "y = data['label'].copy()\n",
    "X = data.drop('label', axis=1).copy()"
   ]
  },
  {
   "cell_type": "code",
   "execution_count": 10,
   "metadata": {},
   "outputs": [],
   "source": [
    "scaler = StandardScaler()\n",
    "\n",
    "X = scaler.fit_transform(X)"
   ]
  },
  {
   "cell_type": "code",
   "execution_count": 11,
   "metadata": {},
   "outputs": [],
   "source": [
    "X_train, X_test, y_train, y_test = train_test_split(X, y, train_size=0.7, random_state=42)"
   ]
  },
  {
   "cell_type": "code",
   "execution_count": 12,
   "metadata": {},
   "outputs": [
    {
     "data": {
      "text/plain": [
       "(3168, 20)"
      ]
     },
     "execution_count": 12,
     "metadata": {},
     "output_type": "execute_result"
    }
   ],
   "source": [
    "X.shape"
   ]
  },
  {
   "cell_type": "code",
   "execution_count": 13,
   "metadata": {},
   "outputs": [],
   "source": [
    "inputs = tf.keras.Input(shape=(X.shape[1],))\n",
    "\n",
    "x = tf.keras.layers.Dense(64, activation='relu')(inputs)\n",
    "x = tf.keras.layers.Dense(64, activation='relu')(x)\n",
    "\n",
    "outputs = tf.keras.layers.Dense(1, activation='sigmoid')(x)\n",
    "\n",
    "model = tf.keras.Model(inputs, outputs)"
   ]
  },
  {
   "cell_type": "code",
   "execution_count": 14,
   "metadata": {},
   "outputs": [
    {
     "name": "stdout",
     "output_type": "stream",
     "text": [
      "Model: \"model\"\n",
      "_________________________________________________________________\n",
      "Layer (type)                 Output Shape              Param #   \n",
      "=================================================================\n",
      "input_1 (InputLayer)         [(None, 20)]              0         \n",
      "_________________________________________________________________\n",
      "dense (Dense)                (None, 64)                1344      \n",
      "_________________________________________________________________\n",
      "dense_1 (Dense)              (None, 64)                4160      \n",
      "_________________________________________________________________\n",
      "dense_2 (Dense)              (None, 1)                 65        \n",
      "=================================================================\n",
      "Total params: 5,569\n",
      "Trainable params: 5,569\n",
      "Non-trainable params: 0\n",
      "_________________________________________________________________\n"
     ]
    }
   ],
   "source": [
    "model.summary()"
   ]
  },
  {
   "cell_type": "code",
   "execution_count": 15,
   "metadata": {},
   "outputs": [
    {
     "name": "stdout",
     "output_type": "stream",
     "text": [
      "Train on 1773 samples, validate on 444 samples\n",
      "Epoch 1/100\n",
      "1773/1773 [==============================] - 2s 1ms/sample - loss: 0.4158 - accuracy: 0.8387 - auc: 0.9228 - val_loss: 0.2176 - val_accuracy: 0.9685 - val_auc: 0.9927\n",
      "Epoch 2/100\n",
      "1773/1773 [==============================] - 0s 168us/sample - loss: 0.1529 - accuracy: 0.9554 - auc: 0.9913 - val_loss: 0.0869 - val_accuracy: 0.9865 - val_auc: 0.9963\n",
      "Epoch 3/100\n",
      "1773/1773 [==============================] - 0s 144us/sample - loss: 0.0906 - accuracy: 0.9718 - auc: 0.9953 - val_loss: 0.0739 - val_accuracy: 0.9797 - val_auc: 0.9958\n",
      "Epoch 4/100\n",
      "1773/1773 [==============================] - 0s 135us/sample - loss: 0.0736 - accuracy: 0.9780 - auc: 0.9964 - val_loss: 0.0584 - val_accuracy: 0.9820 - val_auc: 0.9973\n",
      "Epoch 5/100\n",
      "1773/1773 [==============================] - 0s 141us/sample - loss: 0.0639 - accuracy: 0.9808 - auc: 0.9973 - val_loss: 0.0612 - val_accuracy: 0.9865 - val_auc: 0.9968\n",
      "Epoch 6/100\n",
      "1773/1773 [==============================] - 0s 113us/sample - loss: 0.0643 - accuracy: 0.9797 - auc: 0.9971 - val_loss: 0.0513 - val_accuracy: 0.9865 - val_auc: 0.9978\n",
      "Epoch 7/100\n",
      "1773/1773 [==============================] - 0s 90us/sample - loss: 0.0557 - accuracy: 0.9820 - auc: 0.9979 - val_loss: 0.0538 - val_accuracy: 0.9842 - val_auc: 0.9973\n",
      "Epoch 8/100\n",
      "1773/1773 [==============================] - 0s 86us/sample - loss: 0.0532 - accuracy: 0.9825 - auc: 0.9981 - val_loss: 0.0487 - val_accuracy: 0.9887 - val_auc: 0.9978\n",
      "Epoch 9/100\n",
      "1773/1773 [==============================] - 0s 90us/sample - loss: 0.0489 - accuracy: 0.9836 - auc: 0.9985 - val_loss: 0.0554 - val_accuracy: 0.9865 - val_auc: 0.9972\n",
      "Epoch 10/100\n",
      "1773/1773 [==============================] - 0s 89us/sample - loss: 0.0460 - accuracy: 0.9836 - auc: 0.9986 - val_loss: 0.0466 - val_accuracy: 0.9842 - val_auc: 0.9983\n",
      "Epoch 11/100\n",
      "1773/1773 [==============================] - 0s 83us/sample - loss: 0.0442 - accuracy: 0.9853 - auc: 0.9987 - val_loss: 0.0567 - val_accuracy: 0.9842 - val_auc: 0.9954\n",
      "Epoch 12/100\n",
      "1773/1773 [==============================] - 0s 86us/sample - loss: 0.0427 - accuracy: 0.9876 - auc: 0.9988 - val_loss: 0.0484 - val_accuracy: 0.9842 - val_auc: 0.9975\n",
      "Epoch 13/100\n",
      "1773/1773 [==============================] - 0s 91us/sample - loss: 0.0425 - accuracy: 0.9859 - auc: 0.9988 - val_loss: 0.0451 - val_accuracy: 0.9842 - val_auc: 0.9982\n",
      "Epoch 14/100\n",
      "1773/1773 [==============================] - 0s 88us/sample - loss: 0.0386 - accuracy: 0.9876 - auc: 0.9991 - val_loss: 0.0471 - val_accuracy: 0.9865 - val_auc: 0.9978\n",
      "Epoch 15/100\n",
      "1773/1773 [==============================] - 0s 95us/sample - loss: 0.0347 - accuracy: 0.9882 - auc: 0.9992 - val_loss: 0.0444 - val_accuracy: 0.9865 - val_auc: 0.9981\n",
      "Epoch 16/100\n",
      "1773/1773 [==============================] - 0s 88us/sample - loss: 0.0354 - accuracy: 0.9870 - auc: 0.9992 - val_loss: 0.0507 - val_accuracy: 0.9865 - val_auc: 0.9973\n",
      "Epoch 17/100\n",
      "1773/1773 [==============================] - 0s 85us/sample - loss: 0.0312 - accuracy: 0.9887 - auc: 0.9994 - val_loss: 0.0442 - val_accuracy: 0.9910 - val_auc: 0.9980\n",
      "Epoch 18/100\n",
      "1773/1773 [==============================] - 0s 88us/sample - loss: 0.0305 - accuracy: 0.9893 - auc: 0.9994 - val_loss: 0.0442 - val_accuracy: 0.9887 - val_auc: 0.9978\n",
      "Epoch 19/100\n",
      "1773/1773 [==============================] - 0s 92us/sample - loss: 0.0302 - accuracy: 0.9893 - auc: 0.9994 - val_loss: 0.0454 - val_accuracy: 0.9887 - val_auc: 0.9979\n",
      "Epoch 20/100\n",
      "1773/1773 [==============================] - 0s 94us/sample - loss: 0.0317 - accuracy: 0.9893 - auc: 0.9993 - val_loss: 0.0470 - val_accuracy: 0.9910 - val_auc: 0.9975\n",
      "Epoch 21/100\n",
      "1773/1773 [==============================] - 0s 102us/sample - loss: 0.0251 - accuracy: 0.9910 - auc: 0.9996 - val_loss: 0.0495 - val_accuracy: 0.9865 - val_auc: 0.9958\n"
     ]
    }
   ],
   "source": [
    "model.compile(\n",
    "    optimizer='adam',\n",
    "    loss='binary_crossentropy',\n",
    "    metrics=[\n",
    "        'accuracy',\n",
    "        tf.keras.metrics.AUC(name='auc')\n",
    "    ]\n",
    ")\n",
    "\n",
    "history = model.fit(\n",
    "    X_train,\n",
    "    y_train,\n",
    "    validation_split=0.2,\n",
    "    batch_size=32,\n",
    "    epochs=100,\n",
    "    callbacks=[\n",
    "        tf.keras.callbacks.EarlyStopping(\n",
    "            monitor='val_loss',\n",
    "            patience=3,\n",
    "            restore_best_weights=True\n",
    "        )\n",
    "    ]\n",
    ")\n"
   ]
  },
  {
   "cell_type": "code",
   "execution_count": 16,
   "metadata": {},
   "outputs": [
    {
     "name": "stdout",
     "output_type": "stream",
     "text": [
      "951/951 [==============================] - 0s 87us/sample - loss: 0.0604 - accuracy: 0.9769 - auc: 0.9979\n"
     ]
    },
    {
     "data": {
      "text/plain": [
       "[0.060397364438112854, 0.9768665, 0.99793845]"
      ]
     },
     "execution_count": 16,
     "metadata": {},
     "output_type": "execute_result"
    }
   ],
   "source": [
    "model.evaluate(X_test, y_test)"
   ]
  },
  {
   "cell_type": "code",
   "execution_count": 17,
   "metadata": {},
   "outputs": [],
   "source": [
    "X = tf.keras.preprocessing.sequence.pad_sequences(X, dtype=np.float, maxlen=25, padding='post')\n",
    "X = X.reshape(-1, 5, 5)\n",
    "X = np.expand_dims(X, axis=3)"
   ]
  },
  {
   "cell_type": "code",
   "execution_count": 18,
   "metadata": {},
   "outputs": [
    {
     "data": {
      "text/plain": [
       "(3168, 5, 5, 1)"
      ]
     },
     "execution_count": 18,
     "metadata": {},
     "output_type": "execute_result"
    }
   ],
   "source": [
    "X.shape"
   ]
  },
  {
   "cell_type": "code",
   "execution_count": 19,
   "metadata": {},
   "outputs": [],
   "source": [
    "X_train, X_test, y_train, y_test = train_test_split(X, y, train_size=0.7, random_state=42)"
   ]
  },
  {
   "cell_type": "code",
   "execution_count": 20,
   "metadata": {},
   "outputs": [],
   "source": [
    "inputs = tf.keras.Input(shape=(X.shape[1], X.shape[2], X.shape[3]))\n",
    "\n",
    "x = tf.keras.layers.Conv2D(16, 2, activation='relu')(inputs)\n",
    "x = tf.keras.layers.MaxPooling2D()(x)\n",
    "\n",
    "x = tf.keras.layers.Conv2D(32, 1, activation='relu')(x)\n",
    "x = tf.keras.layers.MaxPooling2D()(x)\n",
    "\n",
    "x = tf.keras.layers.Flatten()(x) #flattens the inputs\n",
    "\n",
    "x = tf.keras.layers.Dense(64, activation='relu')(x)\n",
    "\n",
    "outputs = tf.keras.layers.Dense(1, activation='sigmoid')(x)\n",
    "\n",
    "model = tf.keras.Model(inputs, outputs)"
   ]
  },
  {
   "cell_type": "code",
   "execution_count": 21,
   "metadata": {},
   "outputs": [
    {
     "name": "stdout",
     "output_type": "stream",
     "text": [
      "Model: \"model_1\"\n",
      "_________________________________________________________________\n",
      "Layer (type)                 Output Shape              Param #   \n",
      "=================================================================\n",
      "input_2 (InputLayer)         [(None, 5, 5, 1)]         0         \n",
      "_________________________________________________________________\n",
      "conv2d (Conv2D)              (None, 4, 4, 16)          80        \n",
      "_________________________________________________________________\n",
      "max_pooling2d (MaxPooling2D) (None, 2, 2, 16)          0         \n",
      "_________________________________________________________________\n",
      "conv2d_1 (Conv2D)            (None, 2, 2, 32)          544       \n",
      "_________________________________________________________________\n",
      "max_pooling2d_1 (MaxPooling2 (None, 1, 1, 32)          0         \n",
      "_________________________________________________________________\n",
      "flatten (Flatten)            (None, 32)                0         \n",
      "_________________________________________________________________\n",
      "dense_3 (Dense)              (None, 64)                2112      \n",
      "_________________________________________________________________\n",
      "dense_4 (Dense)              (None, 1)                 65        \n",
      "=================================================================\n",
      "Total params: 2,801\n",
      "Trainable params: 2,801\n",
      "Non-trainable params: 0\n",
      "_________________________________________________________________\n"
     ]
    }
   ],
   "source": [
    "model.summary()"
   ]
  },
  {
   "cell_type": "code",
   "execution_count": 22,
   "metadata": {},
   "outputs": [
    {
     "name": "stdout",
     "output_type": "stream",
     "text": [
      "Train on 1773 samples, validate on 444 samples\n",
      "Epoch 1/100\n",
      "1773/1773 [==============================] - 2s 1ms/sample - loss: 0.6710 - accuracy: 0.5956 - auc: 0.7010 - val_loss: 0.6431 - val_accuracy: 0.7050 - val_auc: 0.7924\n",
      "Epoch 2/100\n",
      "1773/1773 [==============================] - 0s 176us/sample - loss: 0.5810 - accuracy: 0.7795 - auc: 0.8548 - val_loss: 0.5143 - val_accuracy: 0.8108 - val_auc: 0.8937\n",
      "Epoch 3/100\n",
      "1773/1773 [==============================] - 0s 187us/sample - loss: 0.4066 - accuracy: 0.8748 - auc: 0.9418 - val_loss: 0.3325 - val_accuracy: 0.8739 - val_auc: 0.9541\n",
      "Epoch 4/100\n",
      "1773/1773 [==============================] - 0s 148us/sample - loss: 0.2702 - accuracy: 0.9126 - auc: 0.9679 - val_loss: 0.2508 - val_accuracy: 0.8986 - val_auc: 0.9668\n",
      "Epoch 5/100\n",
      "1773/1773 [==============================] - 0s 101us/sample - loss: 0.2151 - accuracy: 0.9210 - auc: 0.9759 - val_loss: 0.2186 - val_accuracy: 0.9099 - val_auc: 0.9783\n",
      "Epoch 6/100\n",
      "1773/1773 [==============================] - 0s 130us/sample - loss: 0.1897 - accuracy: 0.9239 - auc: 0.9796 - val_loss: 0.1899 - val_accuracy: 0.9234 - val_auc: 0.9812\n",
      "Epoch 7/100\n",
      "1773/1773 [==============================] - 0s 130us/sample - loss: 0.1773 - accuracy: 0.9261 - auc: 0.9814 - val_loss: 0.1915 - val_accuracy: 0.9234 - val_auc: 0.9832\n",
      "Epoch 8/100\n",
      "1773/1773 [==============================] - 0s 112us/sample - loss: 0.1668 - accuracy: 0.9351 - auc: 0.9833 - val_loss: 0.1742 - val_accuracy: 0.9257 - val_auc: 0.9842\n",
      "Epoch 9/100\n",
      "1773/1773 [==============================] - 0s 119us/sample - loss: 0.1587 - accuracy: 0.9391 - auc: 0.9850 - val_loss: 0.1652 - val_accuracy: 0.9257 - val_auc: 0.9849\n",
      "Epoch 10/100\n",
      "1773/1773 [==============================] - 0s 125us/sample - loss: 0.1525 - accuracy: 0.9419 - auc: 0.9858 - val_loss: 0.2012 - val_accuracy: 0.9212 - val_auc: 0.9872\n",
      "Epoch 11/100\n",
      "1773/1773 [==============================] - 0s 115us/sample - loss: 0.1615 - accuracy: 0.9397 - auc: 0.9836 - val_loss: 0.1574 - val_accuracy: 0.9257 - val_auc: 0.9867\n",
      "Epoch 12/100\n",
      "1773/1773 [==============================] - 0s 112us/sample - loss: 0.1415 - accuracy: 0.9521 - auc: 0.9877 - val_loss: 0.1500 - val_accuracy: 0.9369 - val_auc: 0.9876\n",
      "Epoch 13/100\n",
      "1773/1773 [==============================] - 0s 111us/sample - loss: 0.1387 - accuracy: 0.9487 - auc: 0.9880 - val_loss: 0.1592 - val_accuracy: 0.9279 - val_auc: 0.9891\n",
      "Epoch 14/100\n",
      "1773/1773 [==============================] - 0s 109us/sample - loss: 0.1374 - accuracy: 0.9554 - auc: 0.9881 - val_loss: 0.1466 - val_accuracy: 0.9347 - val_auc: 0.9895\n",
      "Epoch 15/100\n",
      "1773/1773 [==============================] - 0s 110us/sample - loss: 0.1324 - accuracy: 0.9498 - auc: 0.9889 - val_loss: 0.1404 - val_accuracy: 0.9392 - val_auc: 0.9894\n",
      "Epoch 16/100\n",
      "1773/1773 [==============================] - 0s 119us/sample - loss: 0.1274 - accuracy: 0.9538 - auc: 0.9899 - val_loss: 0.1370 - val_accuracy: 0.9392 - val_auc: 0.9902\n",
      "Epoch 17/100\n",
      "1773/1773 [==============================] - 0s 111us/sample - loss: 0.1231 - accuracy: 0.9571 - auc: 0.9906 - val_loss: 0.1385 - val_accuracy: 0.9392 - val_auc: 0.9907\n",
      "Epoch 18/100\n",
      "1773/1773 [==============================] - 0s 121us/sample - loss: 0.1204 - accuracy: 0.9583 - auc: 0.9909 - val_loss: 0.1298 - val_accuracy: 0.9482 - val_auc: 0.9907\n",
      "Epoch 19/100\n",
      "1773/1773 [==============================] - 0s 109us/sample - loss: 0.1140 - accuracy: 0.9605 - auc: 0.9918 - val_loss: 0.1274 - val_accuracy: 0.9437 - val_auc: 0.9909\n",
      "Epoch 20/100\n",
      "1773/1773 [==============================] - 0s 113us/sample - loss: 0.1134 - accuracy: 0.9594 - auc: 0.9920 - val_loss: 0.1384 - val_accuracy: 0.9347 - val_auc: 0.9921\n",
      "Epoch 21/100\n",
      "1773/1773 [==============================] - 0s 118us/sample - loss: 0.1191 - accuracy: 0.9588 - auc: 0.9908 - val_loss: 0.1255 - val_accuracy: 0.9482 - val_auc: 0.9914\n",
      "Epoch 22/100\n",
      "1773/1773 [==============================] - 0s 134us/sample - loss: 0.1076 - accuracy: 0.9633 - auc: 0.9928 - val_loss: 0.1201 - val_accuracy: 0.9459 - val_auc: 0.9922\n",
      "Epoch 23/100\n",
      "1773/1773 [==============================] - 0s 148us/sample - loss: 0.1079 - accuracy: 0.9633 - auc: 0.9927 - val_loss: 0.1200 - val_accuracy: 0.9414 - val_auc: 0.9924\n",
      "Epoch 24/100\n",
      "1773/1773 [==============================] - 0s 143us/sample - loss: 0.1037 - accuracy: 0.9639 - auc: 0.9928 - val_loss: 0.1252 - val_accuracy: 0.9414 - val_auc: 0.9922\n",
      "Epoch 25/100\n",
      "1773/1773 [==============================] - 0s 148us/sample - loss: 0.0992 - accuracy: 0.9667 - auc: 0.9936 - val_loss: 0.1438 - val_accuracy: 0.9324 - val_auc: 0.9934\n",
      "Epoch 26/100\n",
      "1773/1773 [==============================] - 0s 151us/sample - loss: 0.0997 - accuracy: 0.9673 - auc: 0.9937 - val_loss: 0.1353 - val_accuracy: 0.9369 - val_auc: 0.9933\n"
     ]
    }
   ],
   "source": [
    "model.compile(\n",
    "    optimizer='adam',\n",
    "    loss='binary_crossentropy',\n",
    "    metrics=[\n",
    "        'accuracy',\n",
    "        tf.keras.metrics.AUC(name='auc')\n",
    "    ]\n",
    ")\n",
    "\n",
    "history = model.fit(\n",
    "    X_train,\n",
    "    y_train,\n",
    "    validation_split=0.2,\n",
    "    batch_size=32,\n",
    "    epochs=100,\n",
    "    callbacks=[\n",
    "        tf.keras.callbacks.EarlyStopping(\n",
    "            monitor='val_loss',\n",
    "            patience=3,\n",
    "            restore_best_weights=True\n",
    "        )\n",
    "    ]\n",
    ")"
   ]
  },
  {
   "cell_type": "code",
   "execution_count": null,
   "metadata": {},
   "outputs": [],
   "source": []
  },
  {
   "cell_type": "code",
   "execution_count": null,
   "metadata": {},
   "outputs": [],
   "source": []
  },
  {
   "cell_type": "code",
   "execution_count": 29,
   "metadata": {},
   "outputs": [],
   "source": [
    "model.compile(\n",
    "    optimizer='adam',\n",
    "    loss='binary_crossentropy',\n",
    "    metrics=[\n",
    "        'accuracy']\n",
    ")"
   ]
  },
  {
   "cell_type": "code",
   "execution_count": 34,
   "metadata": {},
   "outputs": [
    {
     "name": "stdout",
     "output_type": "stream",
     "text": [
      "Train on 1773 samples, validate on 444 samples\n",
      "Epoch 1/35\n",
      "1773/1773 [==============================] - 3s 2ms/sample - loss: 0.0228 - accuracy: 0.9955 - val_loss: 0.0629 - val_accuracy: 0.9842\n",
      "Epoch 2/35\n",
      "1773/1773 [==============================] - 1s 744us/sample - loss: 0.0176 - accuracy: 0.9949 - val_loss: 0.0482 - val_accuracy: 0.9797\n",
      "Epoch 3/35\n",
      "1773/1773 [==============================] - 2s 948us/sample - loss: 0.0181 - accuracy: 0.9938 - val_loss: 0.0638 - val_accuracy: 0.9887\n",
      "Epoch 4/35\n",
      "1773/1773 [==============================] - 2s 1ms/sample - loss: 0.0382 - accuracy: 0.9887 - val_loss: 0.1884 - val_accuracy: 0.9685\n",
      "Epoch 5/35\n",
      "1773/1773 [==============================] - 2s 1ms/sample - loss: 0.0312 - accuracy: 0.9882 - val_loss: 0.0543 - val_accuracy: 0.9820\n",
      "Epoch 6/35\n",
      "1773/1773 [==============================] - 2s 1ms/sample - loss: 0.0139 - accuracy: 0.9966 - val_loss: 0.0624 - val_accuracy: 0.9842\n",
      "Epoch 7/35\n",
      "1773/1773 [==============================] - 1s 732us/sample - loss: 0.0124 - accuracy: 0.9972 - val_loss: 0.0844 - val_accuracy: 0.9820\n",
      "Epoch 8/35\n",
      "1773/1773 [==============================] - 1s 729us/sample - loss: 0.0303 - accuracy: 0.9921 - val_loss: 0.0561 - val_accuracy: 0.9842\n",
      "Epoch 9/35\n",
      "1773/1773 [==============================] - 2s 913us/sample - loss: 0.0189 - accuracy: 0.9938 - val_loss: 0.0571 - val_accuracy: 0.9865\n",
      "Epoch 10/35\n",
      "1773/1773 [==============================] - 2s 1ms/sample - loss: 0.0271 - accuracy: 0.9898 - val_loss: 0.0647 - val_accuracy: 0.9820\n",
      "Epoch 11/35\n",
      "1773/1773 [==============================] - 2s 1ms/sample - loss: 0.0108 - accuracy: 0.9966 - val_loss: 0.0653 - val_accuracy: 0.9820\n",
      "Epoch 12/35\n",
      "1773/1773 [==============================] - 2s 1ms/sample - loss: 0.0098 - accuracy: 0.9983 - val_loss: 0.0704 - val_accuracy: 0.9842\n",
      "Epoch 13/35\n",
      "1773/1773 [==============================] - 2s 1ms/sample - loss: 0.0082 - accuracy: 0.9983 - val_loss: 0.0676 - val_accuracy: 0.9775\n",
      "Epoch 14/35\n",
      "1773/1773 [==============================] - 2s 943us/sample - loss: 0.0112 - accuracy: 0.9972 - val_loss: 0.0674 - val_accuracy: 0.9842\n",
      "Epoch 15/35\n",
      "1773/1773 [==============================] - 1s 701us/sample - loss: 0.0075 - accuracy: 0.9983 - val_loss: 0.0806 - val_accuracy: 0.9752\n",
      "Epoch 16/35\n",
      "1773/1773 [==============================] - 1s 744us/sample - loss: 0.0375 - accuracy: 0.9927 - val_loss: 0.1335 - val_accuracy: 0.9707\n",
      "Epoch 17/35\n",
      "1773/1773 [==============================] - 1s 727us/sample - loss: 0.0210 - accuracy: 0.9927 - val_loss: 0.3373 - val_accuracy: 0.9392\n",
      "Epoch 18/35\n",
      "1773/1773 [==============================] - 2s 1ms/sample - loss: 0.0373 - accuracy: 0.9910 - val_loss: 0.0697 - val_accuracy: 0.9752\n",
      "Epoch 19/35\n",
      "1773/1773 [==============================] - 2s 1ms/sample - loss: 0.0096 - accuracy: 0.9977 - val_loss: 0.0768 - val_accuracy: 0.9775\n",
      "Epoch 20/35\n",
      "1773/1773 [==============================] - 2s 1ms/sample - loss: 0.0274 - accuracy: 0.9904 - val_loss: 0.0867 - val_accuracy: 0.9775\n",
      "Epoch 21/35\n",
      "1773/1773 [==============================] - 2s 969us/sample - loss: 0.0068 - accuracy: 0.9977 - val_loss: 0.0856 - val_accuracy: 0.9752\n",
      "Epoch 22/35\n",
      "1773/1773 [==============================] - 2s 1ms/sample - loss: 0.0068 - accuracy: 0.9983 - val_loss: 0.0959 - val_accuracy: 0.9752\n",
      "Epoch 23/35\n",
      "1773/1773 [==============================] - 2s 1ms/sample - loss: 0.0060 - accuracy: 0.9989 - val_loss: 0.0878 - val_accuracy: 0.9752\n",
      "Epoch 24/35\n",
      "1773/1773 [==============================] - 2s 1ms/sample - loss: 0.0049 - accuracy: 0.9989 - val_loss: 0.0858 - val_accuracy: 0.9797\n",
      "Epoch 25/35\n",
      "1773/1773 [==============================] - 1s 736us/sample - loss: 0.0097 - accuracy: 0.9961 - val_loss: 0.0846 - val_accuracy: 0.9842\n",
      "Epoch 26/35\n",
      "1773/1773 [==============================] - 1s 779us/sample - loss: 0.0562 - accuracy: 0.9848 - val_loss: 0.1060 - val_accuracy: 0.9730\n",
      "Epoch 27/35\n",
      "1773/1773 [==============================] - 2s 952us/sample - loss: 0.0177 - accuracy: 0.9921 - val_loss: 0.0851 - val_accuracy: 0.9752\n",
      "Epoch 28/35\n",
      "1773/1773 [==============================] - 2s 1ms/sample - loss: 0.0272 - accuracy: 0.9904 - val_loss: 0.0733 - val_accuracy: 0.9797\n",
      "Epoch 29/35\n",
      "1773/1773 [==============================] - 2s 1ms/sample - loss: 0.0105 - accuracy: 0.9966 - val_loss: 0.0962 - val_accuracy: 0.9865\n",
      "Epoch 30/35\n",
      "1773/1773 [==============================] - 1s 714us/sample - loss: 0.0237 - accuracy: 0.9955 - val_loss: 0.0900 - val_accuracy: 0.9775\n",
      "Epoch 31/35\n",
      "1773/1773 [==============================] - 2s 974us/sample - loss: 0.0070 - accuracy: 0.9983 - val_loss: 0.1091 - val_accuracy: 0.9775\n",
      "Epoch 32/35\n",
      "1773/1773 [==============================] - 2s 1ms/sample - loss: 0.0047 - accuracy: 0.9989 - val_loss: 0.1066 - val_accuracy: 0.9842\n",
      "Epoch 33/35\n",
      "1773/1773 [==============================] - 2s 1ms/sample - loss: 0.0055 - accuracy: 0.9983 - val_loss: 0.1008 - val_accuracy: 0.9820\n",
      "Epoch 34/35\n",
      "1773/1773 [==============================] - 2s 1ms/sample - loss: 0.0037 - accuracy: 0.9994 - val_loss: 0.0933 - val_accuracy: 0.9820\n",
      "Epoch 35/35\n",
      "1773/1773 [==============================] - 2s 1ms/sample - loss: 0.0185 - accuracy: 0.9938 - val_loss: 0.1287 - val_accuracy: 0.9662\n"
     ]
    }
   ],
   "source": [
    "history = model.fit(X_train, y_train,validation_split = 0.2, epochs=35, batch_size=4)"
   ]
  },
  {
   "cell_type": "code",
   "execution_count": 38,
   "metadata": {},
   "outputs": [
    {
     "name": "stdout",
     "output_type": "stream",
     "text": [
      "951/951 [==============================] - 0s 233us/sample - loss: 0.1378 - accuracy: 0.9664\n"
     ]
    },
    {
     "data": {
      "text/plain": [
       "[0.13780328043032394, 0.9663512]"
      ]
     },
     "execution_count": 38,
     "metadata": {},
     "output_type": "execute_result"
    }
   ],
   "source": [
    "model.evaluate(X_test, y_test)"
   ]
  },
  {
   "cell_type": "code",
   "execution_count": 36,
   "metadata": {},
   "outputs": [
    {
     "data": {
      "image/png": "[encoded data removed]",
      "text/plain": [
       "<Figure size 432x288 with 1 Axes>"
      ]
     },
     "metadata": {
      "needs_background": "light"
     },
     "output_type": "display_data"
    }
   ],
   "source": [
    "import keras\n",
    "from matplotlib import pyplot as plt\n",
    "#history = model.fit(X_train, y_train,validation_split = 0.1, epochs=50, batch_size=4)\n",
    "plt.plot(history.history['accuracy'])\n",
    "plt.plot(history.history['val_accuracy'])\n",
    "plt.title('model accuracy')\n",
    "plt.ylabel('accuracy')\n",
    "plt.xlabel('epoch')\n",
    "plt.legend(['train', 'val'], loc='upper left')\n",
    "plt.show()"
   ]
  },
  {
   "cell_type": "code",
   "execution_count": 37,
   "metadata": {},
   "outputs": [
    {
     "data": {
      "image/png": "[encoded data removed]",
      "text/plain": [
       "<Figure size 432x288 with 1 Axes>"
      ]
     },
     "metadata": {
      "needs_background": "light"
     },
     "output_type": "display_data"
    }
   ],
   "source": [
    "plt.plot(history.history['loss'])\n",
    "plt.plot(history.history['val_loss'])\n",
    "plt.title('model loss')\n",
    "plt.ylabel('loss')\n",
    "plt.xlabel('epoch')\n",
    "plt.legend(['train', 'val'], loc='upper left')\n",
    "plt.show()"
   ]
  },
  {
   "cell_type": "code",
   "execution_count": null,
   "metadata": {},
   "outputs": [],
   "source": []
  }
 ],
 "metadata": {
  "kernelspec": {
   "display_name": "Python 3",
   "language": "python",
   "name": "python3"
  },
  "language_info": {
   "codemirror_mode": {
    "name": "ipython",
    "version": 3
   },
   "file_extension": ".py",
   "mimetype": "text/x-python",
   "name": "python",
   "nbconvert_exporter": "python",
   "pygments_lexer": "ipython3",
   "version": "3.6.12"
  }
 },
 "nbformat": 4,
 "nbformat_minor": 4
}
